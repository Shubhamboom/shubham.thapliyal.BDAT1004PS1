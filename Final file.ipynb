{
 "cells": [
  {
   "cell_type": "markdown",
   "id": "9e012ba6",
   "metadata": {},
   "source": [
    "Assignment "
   ]
  },
  {
   "cell_type": "code",
   "execution_count": 1,
   "id": "53dc4856",
   "metadata": {},
   "outputs": [
    {
     "name": "stdout",
     "output_type": "stream",
     "text": [
      "<class 'int'>\n",
      "<class 'float'>\n",
      "<class 'bool'>\n",
      "<class 'str'>\n",
      "<class 'int'>\n",
      "<class 'str'>\n",
      "<class 'str'>\n",
      "<class 'float'>\n",
      "<class 'int'>\n",
      "<class 'set'>\n",
      "<class 'bool'>\n",
      "<class 'float'>\n"
     ]
    }
   ],
   "source": [
    "#Ques 1\n",
    "# What data type is each of the following (evaluate where necessary)?\n",
    "\n",
    "# 5 \n",
    "# 5.0\n",
    "# 5 > 1\n",
    "# '5'\n",
    "# 5 * 2\n",
    "# '5' * 2\n",
    "# '5' + '2'\n",
    "# 5 / 2\n",
    "# 5 % 2\n",
    "# {5, 2, 1}\n",
    "# 5 == 3\n",
    "# Pi (the number)\n",
    "\n",
    "\n",
    "import math\n",
    "\n",
    "print(type(5))\n",
    "print(type(5.0))\n",
    "print(type(5 > 1))\n",
    "print(type('5'))\n",
    "print(type(5 * 2))\n",
    "print(type('5' * 2))\n",
    "print(type('5' + '2'))\n",
    "print(type(5 / 2))\n",
    "print(type(5 % 2))\n",
    "print(type({5, 2, 1}))\n",
    "print(type(5 == 3))\n",
    "print(type(math.pi))"
   ]
  },
  {
   "cell_type": "code",
   "execution_count": 2,
   "id": "91c4ab00",
   "metadata": {},
   "outputs": [
    {
     "name": "stdout",
     "output_type": "stream",
     "text": [
      "34\n",
      "YES it has ice as substring\n",
      "Longest Word: Supercalifragilisticexpialidocious\n",
      "First Name: Bartok, Last Name: Buxtehude\n"
     ]
    }
   ],
   "source": [
    "#Ques 2\n",
    "# Write (and evaluate) python expressions that answer these questions:\n",
    "# \n",
    "# a. How many letters are there in 'Supercalifragilisticexpialidocious'?\n",
    "# \n",
    "# b. Does 'Supercalifragilisticexpialidocious' contain 'ice' as a substring? \n",
    "# \n",
    "# c. Which of the following words is the longest: \n",
    "#    Supercalifragilisticexpialidocious, Honorificabilitudinitatibus, or \n",
    "#    Bababadalgharaghtakamminarronnkonn? \n",
    "# \n",
    "# d. Which composer comes first in the dictionary: 'Berlioz', 'Borodin', 'Brian', \n",
    "#   'Bartok', 'Bellini', 'Buxtehude', 'Bernstein'. Which one comes last?\n",
    "\n",
    "\n",
    "# Part a Solution\n",
    "print(len('Supercalifragilisticexpialidocious'))\n",
    "\n",
    "# Part b Solution\n",
    "print('YES it has ice as substring') if('ice' in 'Supercalifragilisticexpialidocious') else print('NO it does not has ice as substring')\n",
    "\n",
    "# Part c Solution\n",
    "print('Longest Word: ' + max('Supercalifragilisticexpialidocious', 'Honorificabilitudinitatibus', 'Bababadalgharaghtakamminarronnkonn'))\n",
    "\n",
    "# Part d Solution\n",
    "sorted_str = sorted(['Berlioz', 'Borodin', 'Brian', \n",
    "'Bartok', 'Bellini', 'Buxtehude', 'Bernstein'])\n",
    "\n",
    "print('First Name: ' + sorted_str[0] + ', Last Name: ' + sorted_str[-1])"
   ]
  },
  {
   "cell_type": "code",
   "execution_count": 3,
   "id": "0dcd25e7",
   "metadata": {},
   "outputs": [
    {
     "name": "stdout",
     "output_type": "stream",
     "text": [
      "Please enter the first side length: 2\n",
      "Please enter the second side length: 2\n",
      "Please enter the third side length: 2\n",
      "The area of triangle: 1.7320508075688772\n"
     ]
    }
   ],
   "source": [
    "#Ques 3\n",
    "# Implement function triangleArea(a,b,c) that takes as input the lengths of the 3\n",
    "# sides of a triangle and returns the area of the triangle. By Heron's formula, the area \n",
    "# of a triangle with side lengths a, b, and c is\n",
    "# s(s - a)(s -b)(s -c)\n",
    "# , where \n",
    "# s = (a+b+c)/2. \n",
    "# >>> triangleArea(2,2,2)\n",
    "# 1.7320508075688772\n",
    "\n",
    "\n",
    "def triangleArea(a, b, c):\n",
    "    s = (a+b+c)/2\n",
    "\n",
    "    area = (s * (s - a) * (s - b) * (s - c))**(0.5)\n",
    "\n",
    "    return(area)\n",
    "\n",
    "\n",
    "if __name__ == '__main__':\n",
    "    a = float(input('Please enter the first side length: '))\n",
    "    b = float(input('Please enter the second side length: '))\n",
    "    c = float(input('Please enter the third side length: '))\n",
    "\n",
    "    area = triangleArea(a, b, c)\n",
    "    print('The area of triangle: ' + str(area))"
   ]
  },
  {
   "cell_type": "code",
   "execution_count": 8,
   "id": "6ace346d",
   "metadata": {},
   "outputs": [
    {
     "name": "stdout",
     "output_type": "stream",
     "text": [
      "Input the number of elements to be stored in the array: 5\n",
      "Enter Element: 1\n",
      "Enter Element: 2\n",
      "Enter Element: 3\n",
      "Enter Element: 4\n",
      "Enter Element: 5\n",
      "The Even elements are: \n",
      "2 4 \n",
      "The Odd elements are: \n",
      "1 3 5 "
     ]
    }
   ],
   "source": [
    "#Ques 4\n",
    "# Write a program in python to separate odd and even integers in separate arrays. Go \n",
    "# to the editor\n",
    "# Test Data :\n",
    "# Input the number of elements to be stored in the array :5\n",
    "# Input 5 elements in the array :\n",
    "# element - 0 : 25\n",
    "# element - 1 : 47\n",
    "# element - 2 : 42\n",
    "# element - 3 : 56\n",
    "# element - 4 : 32\n",
    "# Expected Output:\n",
    "# The Even elements are:\n",
    "# 42 56 32\n",
    "# The Odd elements are :\n",
    "# 25 47\n",
    "\n",
    "\n",
    "ele_list = list()\n",
    "\n",
    "list_len = int(input('Input the number of elements to be stored in the array: '))\n",
    "\n",
    "for i in range(list_len):\n",
    "    ele_list.append(int(input('Enter Element: ')))\n",
    "\n",
    "print('The Even elements are: ')\n",
    "for i in range(list_len):\n",
    "    if ele_list[i]%2 == 0:\n",
    "        print(ele_list[i], end=' ')\n",
    "\n",
    "print()\n",
    "\n",
    "print('The Odd elements are: ')\n",
    "for i in range(list_len):\n",
    "    if ele_list[i]%2 != 0:\n",
    "        print(ele_list[i], end=' ')"
   ]
  },
  {
   "cell_type": "code",
   "execution_count": 4,
   "id": "3ab92cb4",
   "metadata": {},
   "outputs": [
    {
     "name": "stdout",
     "output_type": "stream",
     "text": [
      "Enter x1\n",
      "Enter y1\n",
      "Enter x10.3\n",
      "Enter y10.5\n",
      "Enter x21.1\n",
      "Enter y20.7\n",
      "False\n",
      "1,1 does not lie between the points.\n"
     ]
    }
   ],
   "source": [
    "#Ques 5\n",
    "def inside(a,b,a1,b1,a2,b2):\n",
    "    if a1 <= a <= a2 and b1 <= b <=b2:\n",
    "        return True\n",
    "    return False\n",
    "# Part a->\n",
    "x= input(\"Enter x\")\n",
    "y= input(\"Enter y\")\n",
    "x1= input(\"Enter x1\")\n",
    "y1= input(\"Enter y1\")\n",
    "x2= input(\"Enter x2\")\n",
    "y2= input(\"Enter y2\")\n",
    "print(inside(x,y,x1,y1,x2,y2))\n",
    "#Part b->\n",
    "if inside(1,1,0.3,0.5,1.1,0.7) and inside(1,1,0.5,0.2,1.1,2):\n",
    "    print(\"1,1 lies between both the points\")\n",
    "else:\n",
    "    print(\"1,1 does not lie between the points.\")"
   ]
  },
  {
   "cell_type": "code",
   "execution_count": 5,
   "id": "bcaeb5dc",
   "metadata": {},
   "outputs": [
    {
     "name": "stdout",
     "output_type": "stream",
     "text": [
      "appyhay\n",
      "enterway\n"
     ]
    }
   ],
   "source": [
    "#Ques 6\n",
    "def pig(line):\n",
    "    line = line.lower()\n",
    "    vowels = ['a','e','i','o','u']\n",
    "    if line[0] in vowels:\n",
    "        return line + \"way\"\n",
    "    else:\n",
    "        first = line[0 : 1]\n",
    "        second = line[1 :]\n",
    "        return second + first + \"ay\"\n",
    "\n",
    "print(pig(\"happy\"))\n",
    "print(pig(\"Enter\"))"
   ]
  },
  {
   "cell_type": "code",
   "execution_count": 9,
   "id": "04245fc3",
   "metadata": {},
   "outputs": [
    {
     "name": "stdout",
     "output_type": "stream",
     "text": [
      "There are 15 patients of blood type A.\n",
      "There are 1 patients of blood type B.\n",
      "There are 13 patients of blood type AB.\n",
      "There are 15 patients of blood type O.\n",
      "There are 0 patients of blood type OO.\n"
     ]
    }
   ],
   "source": [
    "#Ques 7\n",
    "# 7th question\n",
    "file =  open(\"bloodtype1.txt\", \"r\")\n",
    "arr = file.read().split(\" \")\n",
    "print(f\"There are {arr.count('A')} patients of blood type A.\")\n",
    "print(f\"There are {arr.count('B')} patients of blood type B.\")\n",
    "print(f\"There are {arr.count('AB')} patients of blood type AB.\")\n",
    "print(f\"There are {arr.count('O')} patients of blood type O.\")\n",
    "print(f\"There are {arr.count('OO')} patients of blood type OO.\")"
   ]
  },
  {
   "cell_type": "code",
   "execution_count": 10,
   "id": "67b3bb9c",
   "metadata": {},
   "outputs": [
    {
     "name": "stdout",
     "output_type": "stream",
     "text": [
      "Enter Currency Symbol:JPY\n",
      "Enter Currency Amount:100\n",
      "1.241401 USD\n"
     ]
    }
   ],
   "source": [
    "#Ques 8\n",
    "def curconv(symbol,price):\n",
    "    f =  open(\"currencies.txt\", \"r\")\n",
    "    arr = f.read().split(\"\\n\")\n",
    "    dictionary = {}\n",
    "    for i in arr:\n",
    "        arr_one = i.split(\"\\t\")\n",
    "        dictionary[f\"{arr_one[0]}\"] = arr_one[1]\n",
    "    multiplier = dictionary.get(symbol)\n",
    "    return float(price) * float(multiplier)\n",
    "\n",
    "curr_symbol = input(\"Enter Currency Symbol:\")\n",
    "curr_amount = input(\"Enter Currency Amount:\")\n",
    "print(curconv(curr_symbol,curr_amount), \"USD\")"
   ]
  },
  {
   "cell_type": "code",
   "execution_count": 6,
   "id": "b9c36be7",
   "metadata": {},
   "outputs": [
    {
     "name": "stdout",
     "output_type": "stream",
     "text": [
      "Exception: unsupported operand type(s) for +: 'int' and 'str'\n",
      "Exception: math domain error\n",
      "2.0\n",
      "Exception: [Errno 2] No such file or directory: 'file.txt'\n"
     ]
    }
   ],
   "source": [
    "#Ques 9\n",
    "try:\n",
    "    a = 0+'a'\n",
    "except Exception as e:\n",
    "  print(\"Exception:\",e)\n",
    "try:\n",
    "    a = math.sqrt(-1.1)\n",
    "\n",
    "except Exception as e:\n",
    "  print(\"Exception:\",e)\n",
    "try:\n",
    "    print(b)\n",
    "\n",
    "except Exception as e:\n",
    "  print(\"Exception:\",e)\n",
    "try:\n",
    "    f = open(\"file.txt\", \"r\")\n",
    "\n",
    "except Exception as e:\n",
    "  print(\"Exception:\",e)"
   ]
  },
  {
   "cell_type": "code",
   "execution_count": 7,
   "id": "135b29b0",
   "metadata": {},
   "outputs": [
    {
     "name": "stdout",
     "output_type": "stream",
     "text": [
      "Enter you message: Hello my name is shubham thapliyal.\n",
      "Line: Hello my name is shubham thapliyal.\n",
      "frequencies: [4, 1, 0, 0, 2, 0, 0, 4, 2, 0, 0, 4, 3, 1, 1, 1, 0, 0, 2, 1, 1, 0, 0, 0, 2, 0]\n"
     ]
    }
   ],
   "source": [
    "#Ques 10\n",
    "import math\n",
    "\n",
    "\n",
    "def frequencies(line):\n",
    "    alphabets=['a','b','c','d','e','f','g','h','i','j','k','l','m','n','o','p','q','r','s','t','u','v','w','x','y','z']\n",
    "    alphabets_upper_case=['A','B','C','D','E','F','G','H','I','J','K','L','M','N','O','P','Q','R','S','T','U','V','W','X','Y','Z']\n",
    "    count = [0,0,0,0,0,0,0,0,0,0,0,0,0,0,0,0,0,0,0,0,0,0,0,0,0,0]\n",
    "    for i in line:\n",
    "        if i in alphabets:\n",
    "            count[alphabets.index(i)]=count[alphabets.index(i)]+1\n",
    "        if i in alphabets_upper_case:\n",
    "            count[alphabets_upper_case.index(i)]=count[alphabets_upper_case.index(i)]+1\n",
    "    return count\n",
    "\n",
    "sentence=input(\"Enter you message: \")\n",
    "print(\"Line:\",sentence)\n",
    "print(\"frequencies:\",frequencies(sentence))"
   ]
  }
 ],
 "metadata": {
  "kernelspec": {
   "display_name": "Python 3 (ipykernel)",
   "language": "python",
   "name": "python3"
  },
  "language_info": {
   "codemirror_mode": {
    "name": "ipython",
    "version": 3
   },
   "file_extension": ".py",
   "mimetype": "text/x-python",
   "name": "python",
   "nbconvert_exporter": "python",
   "pygments_lexer": "ipython3",
   "version": "3.9.12"
  }
 },
 "nbformat": 4,
 "nbformat_minor": 5
}
